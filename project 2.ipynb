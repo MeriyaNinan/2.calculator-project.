{
 "cells": [
  {
   "cell_type": "code",
   "execution_count": 2,
   "id": "b15cdca8-d2f9-4859-9799-c05e8f0226d3",
   "metadata": {},
   "outputs": [
    {
     "name": "stdout",
     "output_type": "stream",
     "text": [
      "Welcome to Our Bank!\n",
      "--------------------\n"
     ]
    },
    {
     "name": "stdin",
     "output_type": "stream",
     "text": [
      "Enter your username:  user\n",
      "Enter your password:  password\n"
     ]
    },
    {
     "name": "stdout",
     "output_type": "stream",
     "text": [
      "\n",
      "Menu:\n",
      "1. Deposit\n",
      "2. Withdraw\n",
      "3. Display Balance\n",
      "4. Exit\n"
     ]
    },
    {
     "name": "stdin",
     "output_type": "stream",
     "text": [
      "Enter your choice:  3.display balance\n"
     ]
    },
    {
     "name": "stdout",
     "output_type": "stream",
     "text": [
      "Invalid choice. Please try again.\n",
      "\n",
      "Menu:\n",
      "1. Deposit\n",
      "2. Withdraw\n",
      "3. Display Balance\n",
      "4. Exit\n"
     ]
    },
    {
     "name": "stdin",
     "output_type": "stream",
     "text": [
      "Enter your choice:  2\n",
      "Enter amount to withdraw:  1000\n"
     ]
    },
    {
     "name": "stdout",
     "output_type": "stream",
     "text": [
      "Insufficient funds.\n",
      "\n",
      "Menu:\n",
      "1. Deposit\n",
      "2. Withdraw\n",
      "3. Display Balance\n",
      "4. Exit\n"
     ]
    },
    {
     "name": "stdin",
     "output_type": "stream",
     "text": [
      "Enter your choice:  3\n"
     ]
    },
    {
     "name": "stdout",
     "output_type": "stream",
     "text": [
      "Current balance: 0 units\n",
      "\n",
      "Menu:\n",
      "1. Deposit\n",
      "2. Withdraw\n",
      "3. Display Balance\n",
      "4. Exit\n"
     ]
    },
    {
     "name": "stdin",
     "output_type": "stream",
     "text": [
      "Enter your choice:  3\n"
     ]
    },
    {
     "name": "stdout",
     "output_type": "stream",
     "text": [
      "Current balance: 0 units\n",
      "\n",
      "Menu:\n",
      "1. Deposit\n",
      "2. Withdraw\n",
      "3. Display Balance\n",
      "4. Exit\n"
     ]
    },
    {
     "name": "stdin",
     "output_type": "stream",
     "text": [
      "Enter your choice:  4\n"
     ]
    },
    {
     "name": "stdout",
     "output_type": "stream",
     "text": [
      "Thank you for using our banking system.\n"
     ]
    }
   ],
   "source": [
    "class BankAccount:\n",
    "    def __init__(self, username, password):\n",
    "        self.username = username\n",
    "        self.password = password\n",
    "        self.balance = 0\n",
    "    def deposit(self, amount):\n",
    "        if amount > 0:\n",
    "            self.balance += amount\n",
    "            print(f\"Deposited {amount} units. Current balance: {self.balance} units\")\n",
    "        else:\n",
    "            print(\"Invalid amount. Please enter a positive value.\")\n",
    "     def withdraw(self, amount):\n",
    "        if amount <= self.balance:\n",
    "            self.balance -= amount\n",
    "            print(f\"Withdrawn {amount} units. Current balance: {self.balance} units\")\n",
    "        else:\n",
    "            print(\"Insufficient funds.\")\n",
    "     def display_balance(self):\n",
    "        print(f\"Current balance: {self.balance} units\")\n",
    "def main():\n",
    "    print(\"Welcome to Our Bank!\")\n",
    "    print(\"--------------------\")\n",
    "    username = input(\"Enter your username: \")\n",
    "    password = input(\"Enter your password: \")\n",
    "    if username == \"user\" and password == \"password\":\n",
    "        account = BankAccount(username, password)\n",
    "        while True:\n",
    "            print(\"\\nMenu:\")\n",
    "            print(\"1. Deposit\")\n",
    "            print(\"2. Withdraw\")\n",
    "            print(\"3. Display Balance\")\n",
    "            print(\"4. Exit\")\n",
    "            choice = input(\"Enter your choice: \")\n",
    "            if choice == \"1\":\n",
    "                amount = float(input(\"Enter amount to deposit: \"))\n",
    "                account.deposit(amount)\n",
    "            elif choice == \"2\":\n",
    "                amount = float(input(\"Enter amount to withdraw: \"))\n",
    "                account.withdraw(amount)\n",
    "            elif choice == \"3\":\n",
    "                account.display_balance()\n",
    "            elif choice == \"4\":\n",
    "                print(\"Thank you for using our banking system.\")\n",
    "                break\n",
    "            else:\n",
    "                print(\"Invalid choice. Please try again.\")\n",
    "    else:\n",
    "        print(\"Invalid username or password. Please try again.\")\n",
    "if __name__ == \"__main__\":\n",
    "    main()\n"
   ]
  },
  {
   "cell_type": "code",
   "execution_count": null,
   "id": "a32e3054-5f7b-48af-b91b-55bd5d3ca7ff",
   "metadata": {},
   "outputs": [],
   "source": []
  }
 ],
 "metadata": {
  "kernelspec": {
   "display_name": "Python 3 (ipykernel)",
   "language": "python",
   "name": "python3"
  },
  "language_info": {
   "codemirror_mode": {
    "name": "ipython",
    "version": 3
   },
   "file_extension": ".py",
   "mimetype": "text/x-python",
   "name": "python",
   "nbconvert_exporter": "python",
   "pygments_lexer": "ipython3",
   "version": "3.11.7"
  }
 },
 "nbformat": 4,
 "nbformat_minor": 5
}
